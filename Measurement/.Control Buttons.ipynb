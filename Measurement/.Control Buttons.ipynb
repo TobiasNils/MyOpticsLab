{
 "cells": [
  {
   "cell_type": "markdown",
   "metadata": {
    "extensions": {
     "jupyter_dashboards": {
      "version": 1,
      "views": {
       "grid_default": {
        "col": 0,
        "height": 4,
        "hidden": true,
        "row": 0,
        "width": 4
       },
       "report_default": {}
      }
     }
    }
   },
   "source": [
    "## Load custom definitions from startup.py into namespace"
   ]
  },
  {
   "cell_type": "code",
   "execution_count": 1,
   "metadata": {
    "collapsed": true,
    "extensions": {
     "jupyter_dashboards": {
      "version": 1,
      "views": {
       "grid_default": {
        "hidden": true
       },
       "report_default": {}
      }
     }
    }
   },
   "outputs": [],
   "source": [
    "from modules.LoopControls import LoopControlButtons"
   ]
  },
  {
   "cell_type": "markdown",
   "metadata": {
    "extensions": {
     "jupyter_dashboards": {
      "version": 1,
      "views": {
       "grid_default": {
        "col": 4,
        "height": 3,
        "hidden": false,
        "row": 0,
        "width": 5
       },
       "report_default": {}
      }
     }
    }
   },
   "source": [
    "## Control buttons for the *Measurement Instance* notebook"
   ]
  },
  {
   "cell_type": "code",
   "execution_count": 2,
   "metadata": {
    "extensions": {
     "jupyter_dashboards": {
      "version": 1,
      "views": {
       "grid_default": {
        "col": 4,
        "height": 8,
        "hidden": false,
        "row": 3,
        "width": 5
       },
       "report_default": {}
      }
     }
    }
   },
   "outputs": [
    {
     "data": {
      "application/vnd.jupyter.widget-view+json": {
       "model_id": "4bff0e1758954b65a90a7b054149890f",
       "version_major": 2,
       "version_minor": 0
      },
      "text/plain": [
       "A Jupyter Widget"
      ]
     },
     "metadata": {},
     "output_type": "display_data"
    },
    {
     "data": {
      "application/vnd.jupyter.widget-view+json": {
       "model_id": "6a8f381d81b04dff9f660aba2731bbcf",
       "version_major": 2,
       "version_minor": 0
      },
      "text/plain": [
       "A Jupyter Widget"
      ]
     },
     "metadata": {},
     "output_type": "display_data"
    }
   ],
   "source": [
    "# create an 'instance' of the buttons called ctrls\n",
    "ctrls = LoopControlButtons()        \n",
    "# invoke the instance\n",
    "ctrls.show()"
   ]
  },
  {
   "cell_type": "markdown",
   "metadata": {
    "extensions": {
     "jupyter_dashboards": {
      "version": 1,
      "views": {
       "grid_default": {
        "col": 4,
        "height": 4,
        "hidden": true,
        "row": 12,
        "width": 4
       },
       "report_default": {}
      }
     }
    }
   },
   "source": [
    "### Launch Mega"
   ]
  },
  {
   "cell_type": "code",
   "execution_count": 9,
   "metadata": {},
   "outputs": [
    {
     "data": {
      "text/plain": [
       "1"
      ]
     },
     "execution_count": 9,
     "metadata": {},
     "output_type": "execute_result"
    }
   ],
   "source": [
    "import numpy as np\n",
    "np.load('progress.npy').item()"
   ]
  },
  {
   "cell_type": "code",
   "execution_count": null,
   "metadata": {
    "collapsed": true,
    "extensions": {
     "jupyter_dashboards": {
      "version": 1,
      "views": {
       "grid_default": {
        "hidden": true
       },
       "report_default": {}
      }
     }
    }
   },
   "outputs": [],
   "source": [
    "from subprocess import call\n",
    "call([\"mega-cmd\"])"
   ]
  }
 ],
 "metadata": {
  "extensions": {
   "jupyter_dashboards": {
    "activeView": "grid_default",
    "version": 1,
    "views": {
     "grid_default": {
      "cellMargin": 10,
      "defaultCellHeight": 20,
      "maxColumns": 12,
      "name": "grid",
      "type": "grid"
     },
     "report_default": {
      "name": "report",
      "type": "report"
     }
    }
   }
  },
  "kernelspec": {
   "display_name": "Python 3",
   "language": "python",
   "name": "python3"
  },
  "language_info": {
   "codemirror_mode": {
    "name": "ipython",
    "version": 3
   },
   "file_extension": ".py",
   "mimetype": "text/x-python",
   "name": "python",
   "nbconvert_exporter": "python",
   "pygments_lexer": "ipython3",
   "version": "3.6.5"
  },
  "widgets": {
   "application/vnd.jupyter.widget-state+json": {
    "state": {
     "0012b45e323442ecb15298d41ca8b46a": {
      "model_module": "@jupyter-widgets/base",
      "model_module_version": "1.0.0",
      "model_name": "LayoutModel",
      "state": {}
     },
     "02fcf5f4722e4b66bde6b580fb65b18c": {
      "model_module": "@jupyter-widgets/base",
      "model_module_version": "1.0.0",
      "model_name": "LayoutModel",
      "state": {}
     },
     "0642f02af89f43ea9e3d4575c910c2ab": {
      "model_module": "@jupyter-widgets/controls",
      "model_module_version": "1.0.0",
      "model_name": "BoxModel",
      "state": {
       "_model_module_version": "1.0.0",
       "_view_module_version": "1.0.0",
       "children": [
        "IPY_MODEL_a0871dd1ee6b454ba59e892072d08284",
        "IPY_MODEL_b26f23fc8d3e46c2ab125ed61c7e2cb0"
       ],
       "layout": "IPY_MODEL_81c4ee4549424686afcd70ed74058c75"
      }
     },
     "0d95c4802dc848cea2b6a42110ab0e56": {
      "model_module": "@jupyter-widgets/controls",
      "model_module_version": "1.0.0",
      "model_name": "ButtonStyleModel",
      "state": {
       "_model_module_version": "1.0.0"
      }
     },
     "201635c45c314035bd0dc5240b2847cd": {
      "model_module": "@jupyter-widgets/controls",
      "model_module_version": "1.0.0",
      "model_name": "ButtonModel",
      "state": {
       "_model_module_version": "1.0.0",
       "_view_module_version": "1.0.0",
       "description": "Stop/Resume",
       "layout": "IPY_MODEL_4ffac9e2f5594dc8a72900d4062fdc12",
       "style": "IPY_MODEL_78d2cb48ad4148ef9b03cda7308c5f33"
      }
     },
     "21fe33f43df244afa99b0fee6842e150": {
      "model_module": "@jupyter-widgets/controls",
      "model_module_version": "1.0.0",
      "model_name": "FloatProgressModel",
      "state": {
       "_model_module_version": "1.0.0",
       "_view_module_version": "1.0.0",
       "bar_style": "info",
       "description": "Time to next readout:",
       "layout": "IPY_MODEL_8f39681c6f9b4b4a89ec107a507ca96c",
       "style": "IPY_MODEL_b5d0253b8a004f1195de4f9274d1c453",
       "value": 35
      }
     },
     "26cc62e563b54262982e9f36766a8627": {
      "model_module": "@jupyter-widgets/controls",
      "model_module_version": "1.0.0",
      "model_name": "ButtonModel",
      "state": {
       "_model_module_version": "1.0.0",
       "_view_module_version": "1.0.0",
       "description": "Abort",
       "layout": "IPY_MODEL_6122b72b3506444c935bcba995cca161",
       "style": "IPY_MODEL_fd899b39394d4fbeb5b57953270f1f55"
      }
     },
     "40c6e93302a34edfafb9b309c6a0d703": {
      "model_module": "@jupyter-widgets/base",
      "model_module_version": "1.0.0",
      "model_name": "LayoutModel",
      "state": {}
     },
     "462d7da109cd42c6a196a6c8e149045f": {
      "model_module": "@jupyter-widgets/controls",
      "model_module_version": "1.0.0",
      "model_name": "ButtonModel",
      "state": {
       "_model_module_version": "1.0.0",
       "_view_module_version": "1.0.0",
       "description": "Finished: Experiment ended by user.",
       "disabled": true,
       "layout": "IPY_MODEL_6748e0cfdf1f4d86ad83b3726c3e802c",
       "style": "IPY_MODEL_60518be068c74550a59185dfe08de092"
      }
     },
     "4ffac9e2f5594dc8a72900d4062fdc12": {
      "model_module": "@jupyter-widgets/base",
      "model_module_version": "1.0.0",
      "model_name": "LayoutModel",
      "state": {}
     },
     "51af252af5624137b7ccea60633cd645": {
      "model_module": "@jupyter-widgets/controls",
      "model_module_version": "1.0.0",
      "model_name": "ButtonStyleModel",
      "state": {
       "_model_module_version": "1.0.0"
      }
     },
     "59d40e7231a24f7d9a18d1cc67b29fe7": {
      "model_module": "@jupyter-widgets/base",
      "model_module_version": "1.0.0",
      "model_name": "LayoutModel",
      "state": {}
     },
     "60518be068c74550a59185dfe08de092": {
      "model_module": "@jupyter-widgets/controls",
      "model_module_version": "1.0.0",
      "model_name": "ButtonStyleModel",
      "state": {
       "_model_module_version": "1.0.0"
      }
     },
     "6122b72b3506444c935bcba995cca161": {
      "model_module": "@jupyter-widgets/base",
      "model_module_version": "1.0.0",
      "model_name": "LayoutModel",
      "state": {}
     },
     "632c819a9ae848c2a0b269e7a6d795cf": {
      "model_module": "@jupyter-widgets/controls",
      "model_module_version": "1.0.0",
      "model_name": "ButtonStyleModel",
      "state": {
       "_model_module_version": "1.0.0"
      }
     },
     "6748e0cfdf1f4d86ad83b3726c3e802c": {
      "model_module": "@jupyter-widgets/base",
      "model_module_version": "1.0.0",
      "model_name": "LayoutModel",
      "state": {}
     },
     "6bdbe4e271724847a50411892b292df6": {
      "model_module": "@jupyter-widgets/controls",
      "model_module_version": "1.0.0",
      "model_name": "ButtonModel",
      "state": {
       "_model_module_version": "1.0.0",
       "_view_module_version": "1.0.0",
       "description": "Refresh",
       "layout": "IPY_MODEL_8a5845ae0a4f4033a5b293c9f593bc93",
       "style": "IPY_MODEL_632c819a9ae848c2a0b269e7a6d795cf"
      }
     },
     "6d233b79e80c4d769d7de8fe484e17bb": {
      "model_module": "@jupyter-widgets/base",
      "model_module_version": "1.0.0",
      "model_name": "LayoutModel",
      "state": {}
     },
     "720b0d9486234a8ca6c96e7aec6576ca": {
      "model_module": "@jupyter-widgets/controls",
      "model_module_version": "1.0.0",
      "model_name": "ButtonStyleModel",
      "state": {
       "_model_module_version": "1.0.0"
      }
     },
     "78d2cb48ad4148ef9b03cda7308c5f33": {
      "model_module": "@jupyter-widgets/controls",
      "model_module_version": "1.0.0",
      "model_name": "ButtonStyleModel",
      "state": {
       "_model_module_version": "1.0.0"
      }
     },
     "81c4ee4549424686afcd70ed74058c75": {
      "model_module": "@jupyter-widgets/base",
      "model_module_version": "1.0.0",
      "model_name": "LayoutModel",
      "state": {}
     },
     "8a5845ae0a4f4033a5b293c9f593bc93": {
      "model_module": "@jupyter-widgets/base",
      "model_module_version": "1.0.0",
      "model_name": "LayoutModel",
      "state": {}
     },
     "8ed1085e70104a73a17cc3cd9add344a": {
      "model_module": "@jupyter-widgets/controls",
      "model_module_version": "1.0.0",
      "model_name": "ButtonStyleModel",
      "state": {
       "_model_module_version": "1.0.0"
      }
     },
     "8f39681c6f9b4b4a89ec107a507ca96c": {
      "model_module": "@jupyter-widgets/base",
      "model_module_version": "1.0.0",
      "model_name": "LayoutModel",
      "state": {}
     },
     "949bcd9f2df946d8a2bada5ba3669c7b": {
      "model_module": "@jupyter-widgets/controls",
      "model_module_version": "1.0.0",
      "model_name": "ButtonModel",
      "state": {
       "_model_module_version": "1.0.0",
       "_view_module_version": "1.0.0",
       "description": "Stop/Resume",
       "layout": "IPY_MODEL_40c6e93302a34edfafb9b309c6a0d703",
       "style": "IPY_MODEL_0d95c4802dc848cea2b6a42110ab0e56"
      }
     },
     "98d775bdc33c4fb1aa564fbc495bff6b": {
      "model_module": "@jupyter-widgets/base",
      "model_module_version": "1.0.0",
      "model_name": "LayoutModel",
      "state": {}
     },
     "9a2d1befc8064f908b7337613ef75711": {
      "model_module": "@jupyter-widgets/controls",
      "model_module_version": "1.0.0",
      "model_name": "ButtonModel",
      "state": {
       "_model_module_version": "1.0.0",
       "_view_module_version": "1.0.0",
       "description": "Stop/Resume",
       "layout": "IPY_MODEL_de10c01e6e324a5786f49eff63de99ab",
       "style": "IPY_MODEL_51af252af5624137b7ccea60633cd645"
      }
     },
     "9ceb3ce74d0d40a1b75ef70c65a1c3a2": {
      "model_module": "@jupyter-widgets/controls",
      "model_module_version": "1.0.0",
      "model_name": "ButtonModel",
      "state": {
       "_model_module_version": "1.0.0",
       "_view_module_version": "1.0.0",
       "description": "Abort",
       "layout": "IPY_MODEL_0012b45e323442ecb15298d41ca8b46a",
       "style": "IPY_MODEL_c7d443a694414ac398ae3841e8da9063"
      }
     },
     "9f642b67d072467e866fe00a6b1325d2": {
      "model_module": "@jupyter-widgets/controls",
      "model_module_version": "1.0.0",
      "model_name": "ButtonModel",
      "state": {
       "_model_module_version": "1.0.0",
       "_view_module_version": "1.0.0",
       "description": "Abort",
       "layout": "IPY_MODEL_98d775bdc33c4fb1aa564fbc495bff6b",
       "style": "IPY_MODEL_fd56031142a845eca115a5fd9c650743"
      }
     },
     "a0871dd1ee6b454ba59e892072d08284": {
      "model_module": "@jupyter-widgets/controls",
      "model_module_version": "1.0.0",
      "model_name": "ButtonModel",
      "state": {
       "_model_module_version": "1.0.0",
       "_view_module_version": "1.0.0",
       "description": "Stop/Resume",
       "layout": "IPY_MODEL_6d233b79e80c4d769d7de8fe484e17bb",
       "style": "IPY_MODEL_720b0d9486234a8ca6c96e7aec6576ca"
      }
     },
     "b26f23fc8d3e46c2ab125ed61c7e2cb0": {
      "model_module": "@jupyter-widgets/controls",
      "model_module_version": "1.0.0",
      "model_name": "ButtonModel",
      "state": {
       "_model_module_version": "1.0.0",
       "_view_module_version": "1.0.0",
       "description": "Abort",
       "layout": "IPY_MODEL_02fcf5f4722e4b66bde6b580fb65b18c",
       "style": "IPY_MODEL_8ed1085e70104a73a17cc3cd9add344a"
      }
     },
     "b5d0253b8a004f1195de4f9274d1c453": {
      "model_module": "@jupyter-widgets/controls",
      "model_module_version": "1.0.0",
      "model_name": "ProgressStyleModel",
      "state": {
       "_model_module_version": "1.0.0",
       "description_width": "initial"
      }
     },
     "c7d443a694414ac398ae3841e8da9063": {
      "model_module": "@jupyter-widgets/controls",
      "model_module_version": "1.0.0",
      "model_name": "ButtonStyleModel",
      "state": {
       "_model_module_version": "1.0.0"
      }
     },
     "dbc793bbd0ee42e3bbaf53afce030f02": {
      "model_module": "@jupyter-widgets/controls",
      "model_module_version": "1.0.0",
      "model_name": "BoxModel",
      "state": {
       "_model_module_version": "1.0.0",
       "_view_module_version": "1.0.0",
       "children": [
        "IPY_MODEL_462d7da109cd42c6a196a6c8e149045f",
        "IPY_MODEL_21fe33f43df244afa99b0fee6842e150",
        "IPY_MODEL_6bdbe4e271724847a50411892b292df6"
       ],
       "layout": "IPY_MODEL_59d40e7231a24f7d9a18d1cc67b29fe7"
      }
     },
     "de10c01e6e324a5786f49eff63de99ab": {
      "model_module": "@jupyter-widgets/base",
      "model_module_version": "1.0.0",
      "model_name": "LayoutModel",
      "state": {}
     },
     "fd56031142a845eca115a5fd9c650743": {
      "model_module": "@jupyter-widgets/controls",
      "model_module_version": "1.0.0",
      "model_name": "ButtonStyleModel",
      "state": {
       "_model_module_version": "1.0.0"
      }
     },
     "fd899b39394d4fbeb5b57953270f1f55": {
      "model_module": "@jupyter-widgets/controls",
      "model_module_version": "1.0.0",
      "model_name": "ButtonStyleModel",
      "state": {
       "_model_module_version": "1.0.0"
      }
     }
    },
    "version_major": 2,
    "version_minor": 0
   }
  }
 },
 "nbformat": 4,
 "nbformat_minor": 2
}

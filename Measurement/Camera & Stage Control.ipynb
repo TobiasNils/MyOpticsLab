{
 "cells": [
  {
   "cell_type": "markdown",
   "metadata": {},
   "source": [
    "### Import some modules"
   ]
  },
  {
   "cell_type": "code",
   "execution_count": 1,
   "metadata": {},
   "outputs": [],
   "source": [
    "import cv2\n",
    "import time"
   ]
  },
  {
   "cell_type": "markdown",
   "metadata": {},
   "source": [
    "# Set up Camera access(es) ###\n",
    "Check possible device ids using: ```ls -ltrh /dev/video*```"
   ]
  },
  {
   "cell_type": "code",
   "execution_count": 2,
   "metadata": {
    "collapsed": true
   },
   "outputs": [
    {
     "name": "stdout",
     "output_type": "stream",
     "text": [
      "3 video devices have been initialised:\n",
      "dict_keys(['cam 0', 'cam 1', 'cam 2'])\n"
     ]
    }
   ],
   "source": [
    "devices = {'usb-cam': cv2.VideoCapture(1)}"
   ]
  },
  {
   "cell_type": "markdown",
   "metadata": {},
   "source": [
    "### Define Live Preview Window ###\n",
    "Initiate the necessary modules"
   ]
  },
  {
   "cell_type": "code",
   "execution_count": 3,
   "metadata": {
    "collapsed": true
   },
   "outputs": [
    {
     "name": "stderr",
     "output_type": "stream",
     "text": [
      "/home/Tobi/.opt/anaconda3/lib/python3.6/site-packages/h5py/__init__.py:36: FutureWarning: Conversion of the second argument of issubdtype from `float` to `np.floating` is deprecated. In future, it will be treated as `np.float64 == np.dtype(float).type`.\n",
      "  from ._conv import register_converters as _register_converters\n"
     ]
    }
   ],
   "source": [
    "%gui qt5\n",
    "from pyqtgraph.Qt import QtGui, QtCore\n",
    "import pyqtgraph as pyqtgraph\n",
    "\n",
    "# and some modules for button widgets\n",
    "import ipywidgets as widgets\n",
    "from ipywidgets import interact\n",
    "from IPython.display import display"
   ]
  },
  {
   "cell_type": "markdown",
   "metadata": {},
   "source": [
    "Define a Preview **object class**"
   ]
  },
  {
   "cell_type": "code",
   "execution_count": 4,
   "metadata": {},
   "outputs": [],
   "source": [
    "class Preview(object):   \n",
    "    \"\"\"Pop up a qt5 window for each working camera and stream the **live camera view** using pyqtgraph\"\"\"\n",
    "    def __init__(self, device):\n",
    "        \n",
    "        # assign camera\n",
    "        self.device = devices[device]\n",
    "        self.device_name = device\n",
    "        \n",
    "        # define preview window\n",
    "        self.window_title = \"Preview\"\n",
    "        self.window = pyqtgraph.GraphicsWindow(title=self.window_title)\n",
    "        self.window.resize(320,240)\n",
    "        self.viewport = pyqtgraph.GraphicsLayout()\n",
    "        self.view = self.viewport.addViewBox()\n",
    "        self.window.setCentralItem(self.viewport)\n",
    "        \n",
    "        # init timer for data refresh\n",
    "        self.stream = QtCore.QTimer()\n",
    "        self.stream.timeout.connect(self.update)\n",
    "        self.stream.start(100) # pass time in miliseconds\n",
    "        \n",
    "        # define button for saving images\n",
    "        self.save_button = widgets.Button(description= '', button_style = '', icon='save')\n",
    "        self.save_button.on_click(self.save)\n",
    "        \n",
    "        \n",
    "    def update(self):\n",
    "        bgr_img = [self.device.read() for i in range(7)][-1]\n",
    "        b,g,r = cv2.split(bgr_img[1])\n",
    "        rgb_img = cv2.merge([r,g,b])\n",
    "\n",
    "        frame = pyqtgraph.ImageItem(rgb_img)\n",
    "        self.view.addItem(frame)\n",
    "        \n",
    "    def save(self, b):\n",
    "        self.stream.stop()\n",
    "\n",
    "        img = [self.device.read() for i in range(7)][-1]\n",
    "        cv2.imwrite(self.device_name +'_'+time.asctime()+'.png', img[1])\n",
    "\n",
    "        self.stream.start(100)"
   ]
  },
  {
   "cell_type": "markdown",
   "metadata": {},
   "source": [
    "**Note:** *Code for saving pictures explained*:\n",
    "The camera is somewhat slow in data-acquisition, a changed view may not be reflected immediately in the picture. \n",
    "Therefore we send 7 read() requests and only store the last one (index [-1]) in the variable \"img\".\n",
    "Each read() request returns a tuple of success (True, False) and the image data, the latter is written to a *\".png\"* file"
   ]
  },
  {
   "cell_type": "markdown",
   "metadata": {},
   "source": [
    "# Live Preview#\n",
    "Pop up a qt5 window for each working camera and stream the **live camera view** using pyqtgraph"
   ]
  },
  {
   "cell_type": "code",
   "execution_count": 7,
   "metadata": {
    "collapsed": true
   },
   "outputs": [
    {
     "data": {
      "application/vnd.jupyter.widget-view+json": {
       "model_id": "4a3943d3081e44d18d1c7efe026dba82",
       "version_major": 2,
       "version_minor": 0
      },
      "text/html": [
       "<p>Failed to display Jupyter Widget of type <code>HBox</code>.</p>\n",
       "<p>\n",
       "  If you're reading this message in the Jupyter Notebook or JupyterLab Notebook, it may mean\n",
       "  that the widgets JavaScript is still loading. If this message persists, it\n",
       "  likely means that the widgets JavaScript library is either not installed or\n",
       "  not enabled. See the <a href=\"https://ipywidgets.readthedocs.io/en/stable/user_install.html\">Jupyter\n",
       "  Widgets Documentation</a> for setup instructions.\n",
       "</p>\n",
       "<p>\n",
       "  If you're reading this message in another frontend (for example, a static\n",
       "  rendering on GitHub or <a href=\"https://nbviewer.jupyter.org/\">NBViewer</a>),\n",
       "  it may mean that your frontend doesn't currently support widgets.\n",
       "</p>\n"
      ],
      "text/plain": [
       "HBox(children=(Button(description='cam 1', icon='save', style=ButtonStyle()), Button(description='cam 2', icon='save', style=ButtonStyle())))"
      ]
     },
     "metadata": {},
     "output_type": "display_data"
    }
   ],
   "source": [
    "preview = Preview('usb-cam')\n",
    "\n",
    "# show the save-buttons of all devices    \n",
    "display(preview.save_button)"
   ]
  },
  {
   "cell_type": "markdown",
   "metadata": {},
   "source": [
    "## Movement Control## \n",
    "using *Micos Corvus Stage*"
   ]
  },
  {
   "cell_type": "code",
   "execution_count": 1,
   "metadata": {
    "collapsed": true
   },
   "outputs": [
    {
     "name": "stdout",
     "output_type": "stream",
     "text": [
      "\n",
      " Stage module loaded - do \"dmesg | grep tty\" to list Ports of connected serial devices:\n",
      "\n",
      "Port from output : \n",
      "\n",
      " Try to connect to SerialPort: \n",
      "/dev/ttyUSB0\n",
      "Successfuly connected to Micos Corvus Stage\n"
     ]
    }
   ],
   "source": [
    "import os,serial as sl\n",
    "from modules.MyStage import MyStage, MyAxis\n",
    "Micos = MyStage(os, sl)\n",
    "Micos.user_init()\n",
    "Micos.set_acceleration(50)"
   ]
  },
  {
   "cell_type": "code",
   "execution_count": 2,
   "metadata": {},
   "outputs": [],
   "source": [
    "ax = MyAxis(1, Micos)\n",
    "ax.go_home()\n",
    "Micos.set_home()"
   ]
  },
  {
   "cell_type": "markdown",
   "metadata": {},
   "source": [
    "# Test movement with respect to camera vision #"
   ]
  },
  {
   "cell_type": "code",
   "execution_count": 3,
   "metadata": {},
   "outputs": [],
   "source": [
    "ax.move_relative(45)"
   ]
  },
  {
   "cell_type": "markdown",
   "metadata": {},
   "source": [
    "## **End the streams** and close the pop-up windows"
   ]
  },
  {
   "cell_type": "code",
   "execution_count": 10,
   "metadata": {},
   "outputs": [],
   "source": [
    "preview.stream.stop()\n",
    "preview.save_button.disable = True\n",
    "preview.window.close()"
   ]
  },
  {
   "cell_type": "markdown",
   "metadata": {},
   "source": [
    "# Start continuous picture acquisition#\n",
    "Define period in minutes"
   ]
  },
  {
   "cell_type": "code",
   "execution_count": 6,
   "metadata": {
    "collapsed": true
   },
   "outputs": [],
   "source": [
    "period = 2"
   ]
  },
  {
   "cell_type": "markdown",
   "metadata": {},
   "source": [
    "**Define the actions** you want to be taken after every period of time, e. g. save the last of several pictures from the camera to a file with a timestamp, then waits for the specified period until next repetition. "
   ]
  },
  {
   "cell_type": "code",
   "execution_count": 1,
   "metadata": {
    "collapsed": true
   },
   "outputs": [
    {
     "ename": "NameError",
     "evalue": "name 'preview' is not defined",
     "output_type": "error",
     "traceback": [
      "\u001b[0;31m---------------------------------------------------------------------------\u001b[0m",
      "\u001b[0;31mNameError\u001b[0m                                 Traceback (most recent call last)",
      "\u001b[0;32m<ipython-input-1-33bf263d4999>\u001b[0m in \u001b[0;36m<module>\u001b[0;34m()\u001b[0m\n\u001b[1;32m      1\u001b[0m \u001b[0;32mwhile\u001b[0m \u001b[0;32mTrue\u001b[0m\u001b[0;34m:\u001b[0m\u001b[0;34m\u001b[0m\u001b[0m\n\u001b[1;32m      2\u001b[0m     \u001b[0;32mtry\u001b[0m\u001b[0;34m:\u001b[0m\u001b[0;34m\u001b[0m\u001b[0m\n\u001b[0;32m----> 3\u001b[0;31m         \u001b[0;32mfor\u001b[0m \u001b[0mcam\u001b[0m \u001b[0;32min\u001b[0m \u001b[0mpreview\u001b[0m\u001b[0;34m.\u001b[0m\u001b[0mkeys\u001b[0m\u001b[0;34m(\u001b[0m\u001b[0;34m)\u001b[0m\u001b[0;34m:\u001b[0m\u001b[0;34m\u001b[0m\u001b[0m\n\u001b[0m\u001b[1;32m      4\u001b[0m \u001b[0;34m\u001b[0m\u001b[0m\n\u001b[1;32m      5\u001b[0m             \u001b[0mimg\u001b[0m \u001b[0;34m=\u001b[0m \u001b[0;34m[\u001b[0m\u001b[0mpreview\u001b[0m\u001b[0;34m[\u001b[0m\u001b[0mcam\u001b[0m\u001b[0;34m]\u001b[0m\u001b[0;34m.\u001b[0m\u001b[0mdevice\u001b[0m\u001b[0;34m.\u001b[0m\u001b[0mread\u001b[0m\u001b[0;34m(\u001b[0m\u001b[0;34m)\u001b[0m \u001b[0;32mfor\u001b[0m \u001b[0mi\u001b[0m \u001b[0;32min\u001b[0m \u001b[0mrange\u001b[0m\u001b[0;34m(\u001b[0m\u001b[0;36m7\u001b[0m\u001b[0;34m)\u001b[0m\u001b[0;34m]\u001b[0m\u001b[0;34m[\u001b[0m\u001b[0;34m-\u001b[0m\u001b[0;36m1\u001b[0m\u001b[0;34m]\u001b[0m\u001b[0;34m[\u001b[0m\u001b[0;36m1\u001b[0m\u001b[0;34m]\u001b[0m\u001b[0;34m\u001b[0m\u001b[0m\n",
      "\u001b[0;31mNameError\u001b[0m: name 'preview' is not defined"
     ]
    }
   ],
   "source": [
    "def action():\n",
    "    \n",
    "    position1 = 'left'\n",
    "    # move to first position\n",
    "    ax.move_relative(-45)\n",
    "    # save image\n",
    "    img = [devices['usb-cam'].read() for i in range(7)][-1]\n",
    "    cv2.imwrite(position1 + '_' + time.asctime()+'.png', img[1])\n",
    "\n",
    "    # go back to initial position\n",
    "    ax.go_home()\n",
    "\n",
    "    position2 = 'right'\n",
    "    # move to next position\n",
    "    ax.move_relative(45)\n",
    "    # save image\n",
    "    img = [devices['usb-cam'].read() for i in range(7)][-1]\n",
    "    cv2.imwrite(position2 +'_'+ time.asctime()+'.png', img[1])\n",
    "\n",
    "    # finally, wait specified time\n",
    "    time.sleep(period*60)  # pass period in seconds"
   ]
  },
  {
   "cell_type": "markdown",
   "metadata": {},
   "source": [
    "Start a **while loop**, which saves a picture for each camera, then waits for the specified period until next repetition. \n",
    "(* **Note**: repeats forever if you don't stop it, e.g. using the notebook's \"interrupt Kernel\" button above*)"
   ]
  },
  {
   "cell_type": "code",
   "execution_count": 1,
   "metadata": {
    "collapsed": true
   },
   "outputs": [
    {
     "ename": "NameError",
     "evalue": "name 'preview' is not defined",
     "output_type": "error",
     "traceback": [
      "\u001b[0;31m---------------------------------------------------------------------------\u001b[0m",
      "\u001b[0;31mNameError\u001b[0m                                 Traceback (most recent call last)",
      "\u001b[0;32m<ipython-input-1-33bf263d4999>\u001b[0m in \u001b[0;36m<module>\u001b[0;34m()\u001b[0m\n\u001b[1;32m      1\u001b[0m \u001b[0;32mwhile\u001b[0m \u001b[0;32mTrue\u001b[0m\u001b[0;34m:\u001b[0m\u001b[0;34m\u001b[0m\u001b[0m\n\u001b[1;32m      2\u001b[0m     \u001b[0;32mtry\u001b[0m\u001b[0;34m:\u001b[0m\u001b[0;34m\u001b[0m\u001b[0m\n\u001b[0;32m----> 3\u001b[0;31m         \u001b[0;32mfor\u001b[0m \u001b[0mcam\u001b[0m \u001b[0;32min\u001b[0m \u001b[0mpreview\u001b[0m\u001b[0;34m.\u001b[0m\u001b[0mkeys\u001b[0m\u001b[0;34m(\u001b[0m\u001b[0;34m)\u001b[0m\u001b[0;34m:\u001b[0m\u001b[0;34m\u001b[0m\u001b[0m\n\u001b[0m\u001b[1;32m      4\u001b[0m \u001b[0;34m\u001b[0m\u001b[0m\n\u001b[1;32m      5\u001b[0m             \u001b[0mimg\u001b[0m \u001b[0;34m=\u001b[0m \u001b[0;34m[\u001b[0m\u001b[0mpreview\u001b[0m\u001b[0;34m[\u001b[0m\u001b[0mcam\u001b[0m\u001b[0;34m]\u001b[0m\u001b[0;34m.\u001b[0m\u001b[0mdevice\u001b[0m\u001b[0;34m.\u001b[0m\u001b[0mread\u001b[0m\u001b[0;34m(\u001b[0m\u001b[0;34m)\u001b[0m \u001b[0;32mfor\u001b[0m \u001b[0mi\u001b[0m \u001b[0;32min\u001b[0m \u001b[0mrange\u001b[0m\u001b[0;34m(\u001b[0m\u001b[0;36m7\u001b[0m\u001b[0;34m)\u001b[0m\u001b[0;34m]\u001b[0m\u001b[0;34m[\u001b[0m\u001b[0;34m-\u001b[0m\u001b[0;36m1\u001b[0m\u001b[0;34m]\u001b[0m\u001b[0;34m[\u001b[0m\u001b[0;36m1\u001b[0m\u001b[0;34m]\u001b[0m\u001b[0;34m\u001b[0m\u001b[0m\n",
      "\u001b[0;31mNameError\u001b[0m: name 'preview' is not defined"
     ]
    }
   ],
   "source": [
    "while True:\n",
    "    try: \n",
    "        action()\n",
    "            \n",
    "    except KeyboardInterrupt:\n",
    "        print('Process ended by user.')\n",
    "        break"
   ]
  },
  {
   "cell_type": "code",
   "execution_count": null,
   "metadata": {
    "collapsed": true
   },
   "outputs": [],
   "source": []
  }
 ],
 "metadata": {
  "kernelspec": {
   "display_name": "Python 3",
   "language": "python",
   "name": "python3"
  },
  "language_info": {
   "codemirror_mode": {
    "name": "ipython",
    "version": 3
   },
   "file_extension": ".py",
   "mimetype": "text/x-python",
   "name": "python",
   "nbconvert_exporter": "python",
   "pygments_lexer": "ipython3",
   "version": "3.6.4"
  }
 },
 "nbformat": 4,
 "nbformat_minor": 2
}

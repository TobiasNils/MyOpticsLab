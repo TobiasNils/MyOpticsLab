{
 "cells": [
  {
   "cell_type": "markdown",
   "metadata": {},
   "source": [
    "### Import some modules"
   ]
  },
  {
   "cell_type": "code",
   "execution_count": 1,
   "metadata": {
    "collapsed": true
   },
   "outputs": [],
   "source": [
    "import cv2\n",
    "import time"
   ]
  },
  {
   "cell_type": "markdown",
   "metadata": {},
   "source": [
    "# Set up Camera access(es) ###\n",
    "Check possible device ids using: ```ls -ltrh /dev/video*```"
   ]
  },
  {
   "cell_type": "code",
   "execution_count": 2,
   "metadata": {},
   "outputs": [
    {
     "name": "stdout",
     "output_type": "stream",
     "text": [
      "2 video devices have been initialised.\n"
     ]
    }
   ],
   "source": [
    "devices = {}\n",
    "for i in range(10):\n",
    "    success = cv2.VideoCapture(i).read()[0]\n",
    "    if success:\n",
    "        name = 'cam ' + str(i)\n",
    "        devices[name] = cv2.VideoCapture(i)\n",
    "print(len(devices.keys()), 'video devices have been initialised.' )"
   ]
  },
  {
   "cell_type": "markdown",
   "metadata": {},
   "source": [
    "### Define Live Preview Window ###\n",
    "Initiate the necessary modules"
   ]
  },
  {
   "cell_type": "code",
   "execution_count": 3,
   "metadata": {},
   "outputs": [
    {
     "name": "stderr",
     "output_type": "stream",
     "text": [
      "/home/nils/.anaconda3/lib/python3.6/site-packages/h5py/__init__.py:34: FutureWarning: Conversion of the second argument of issubdtype from `float` to `np.floating` is deprecated. In future, it will be treated as `np.float64 == np.dtype(float).type`.\n",
      "  from ._conv import register_converters as _register_converters\n"
     ]
    }
   ],
   "source": [
    "%gui qt5\n",
    "from pyqtgraph.Qt import QtGui, QtCore\n",
    "import pyqtgraph as pyqtgraph\n",
    "\n",
    "# and some modules for button widgets\n",
    "import ipywidgets as widgets\n",
    "from ipywidgets import interact\n",
    "from IPython.display import display"
   ]
  },
  {
   "cell_type": "markdown",
   "metadata": {},
   "source": [
    "Define a Preview **object class**"
   ]
  },
  {
   "cell_type": "code",
   "execution_count": 4,
   "metadata": {
    "collapsed": true
   },
   "outputs": [],
   "source": [
    "class Preview(object):   \n",
    "    \"\"\"Pop up a qt5 window for each working camera and stream the **live camera view** using pyqtgraph\"\"\"\n",
    "    def __init__(self, device):\n",
    "        \n",
    "        # assign camera\n",
    "        self.device = devices[device]\n",
    "        self.device_name = device\n",
    "        \n",
    "        # define preview window\n",
    "        self.window_title = \"Preview \" + self.device_name\n",
    "        self.window = pyqtgraph.GraphicsWindow(title=self.window_title)\n",
    "        self.window.resize(640,480)\n",
    "        self.viewport = pyqtgraph.GraphicsLayout()\n",
    "        self.view = self.viewport.addViewBox()\n",
    "        self.window.setCentralItem(self.viewport)\n",
    "        \n",
    "        # init timer for data refresh\n",
    "        self.stream = QtCore.QTimer()\n",
    "        self.stream.timeout.connect(self.update)\n",
    "        self.stream.start(10) # pass time in miliseconds\n",
    "        \n",
    "        # define button for saving images\n",
    "        self.save_button = widgets.Button(description= self.device_name, button_style = '', icon='save')\n",
    "        self.save_button.on_click(self.save)\n",
    "        \n",
    "        \n",
    "    def update(self):\n",
    "        bgr_img = [self.device.read() for i in range(7)][-1][1]\n",
    "        b,g,r = cv2.split(bgr_img)\n",
    "        rgb_img = cv2.merge([r,g,b])\n",
    "\n",
    "        frame = pyqtgraph.ImageItem(rgb_img)\n",
    "        self.view.addItem(frame)\n",
    "        \n",
    "    def save(self, b):\n",
    "        self.stream.stop()\n",
    "\n",
    "        img = [self.device.read() for i in range(7)][-1][1]\n",
    "        cv2.imwrite(self.device_name +'_'+time.asctime()+'.png', img)\n",
    "\n",
    "        self.stream.start(10)\n",
    "        self.window.show()   "
   ]
  },
  {
   "cell_type": "markdown",
   "metadata": {},
   "source": [
    "**Note:** *Code for saving pictures explained*:\n",
    "The camera is somewhat slow in data-acquisition, a changed view may not be reflected immediately in the picture. \n",
    "Therefore we send 7 read() requests and only store the last one (index [-1]) in the variable \"img\".\n",
    "Each read() request returns a tuple of success (True, False) and the image data, the latter is written to a *\".png\"* file\n",
    "\n",
    "# Live Preview#\n",
    "Pop up a qt5 window for each working camera and stream the **live camera view** using pyqtgraph"
   ]
  },
  {
   "cell_type": "code",
   "execution_count": 5,
   "metadata": {},
   "outputs": [
    {
     "data": {
      "application/vnd.jupyter.widget-view+json": {
       "model_id": "7e99ef9f02ed409aafa8a9d60fbdc8f4",
       "version_major": 2,
       "version_minor": 0
      },
      "text/plain": [
       "A Jupyter Widget"
      ]
     },
     "metadata": {},
     "output_type": "display_data"
    }
   ],
   "source": [
    "preview = {}\n",
    "for camera in devices.keys():    \n",
    "    preview[camera] = Preview(camera)\n",
    "\n",
    "# show the save-buttons of all devices    \n",
    "display(widgets.HBox(\n",
    "                    [preview[camera].save_button for camera in devices.keys()]\n",
    "                    ))"
   ]
  },
  {
   "cell_type": "markdown",
   "metadata": {},
   "source": [
    "## **End the streams** and close the pop-up windows"
   ]
  },
  {
   "cell_type": "code",
   "execution_count": 28,
   "metadata": {},
   "outputs": [],
   "source": [
    "for cam in preview.keys():\n",
    "    preview[cam].stream.stop()\n",
    "    preview[stream].window.close()"
   ]
  },
  {
   "cell_type": "markdown",
   "metadata": {},
   "source": [
    "# Start continuous picture acquisition#\n",
    "Define period in minutes"
   ]
  },
  {
   "cell_type": "code",
   "execution_count": 6,
   "metadata": {
    "collapsed": true
   },
   "outputs": [],
   "source": [
    "period = .2"
   ]
  },
  {
   "cell_type": "markdown",
   "metadata": {},
   "source": [
    "Start a **while loop**, which saves a picture for each camera, then waits for the specified period until next repetition. \n",
    "(* **Note**: repeats forever if you don't stop it, e.g. using the notebook's \"interrupt Kernel\" button above*)"
   ]
  },
  {
   "cell_type": "code",
   "execution_count": 1,
   "metadata": {
    "collapsed": true
   },
   "outputs": [
    {
     "ename": "NameError",
     "evalue": "name 'preview' is not defined",
     "output_type": "error",
     "traceback": [
      "\u001b[0;31m---------------------------------------------------------------------------\u001b[0m",
      "\u001b[0;31mNameError\u001b[0m                                 Traceback (most recent call last)",
      "\u001b[0;32m<ipython-input-1-33bf263d4999>\u001b[0m in \u001b[0;36m<module>\u001b[0;34m()\u001b[0m\n\u001b[1;32m      1\u001b[0m \u001b[0;32mwhile\u001b[0m \u001b[0;32mTrue\u001b[0m\u001b[0;34m:\u001b[0m\u001b[0;34m\u001b[0m\u001b[0m\n\u001b[1;32m      2\u001b[0m     \u001b[0;32mtry\u001b[0m\u001b[0;34m:\u001b[0m\u001b[0;34m\u001b[0m\u001b[0m\n\u001b[0;32m----> 3\u001b[0;31m         \u001b[0;32mfor\u001b[0m \u001b[0mcam\u001b[0m \u001b[0;32min\u001b[0m \u001b[0mpreview\u001b[0m\u001b[0;34m.\u001b[0m\u001b[0mkeys\u001b[0m\u001b[0;34m(\u001b[0m\u001b[0;34m)\u001b[0m\u001b[0;34m:\u001b[0m\u001b[0;34m\u001b[0m\u001b[0m\n\u001b[0m\u001b[1;32m      4\u001b[0m \u001b[0;34m\u001b[0m\u001b[0m\n\u001b[1;32m      5\u001b[0m             \u001b[0mimg\u001b[0m \u001b[0;34m=\u001b[0m \u001b[0;34m[\u001b[0m\u001b[0mpreview\u001b[0m\u001b[0;34m[\u001b[0m\u001b[0mcam\u001b[0m\u001b[0;34m]\u001b[0m\u001b[0;34m.\u001b[0m\u001b[0mdevice\u001b[0m\u001b[0;34m.\u001b[0m\u001b[0mread\u001b[0m\u001b[0;34m(\u001b[0m\u001b[0;34m)\u001b[0m \u001b[0;32mfor\u001b[0m \u001b[0mi\u001b[0m \u001b[0;32min\u001b[0m \u001b[0mrange\u001b[0m\u001b[0;34m(\u001b[0m\u001b[0;36m7\u001b[0m\u001b[0;34m)\u001b[0m\u001b[0;34m]\u001b[0m\u001b[0;34m[\u001b[0m\u001b[0;34m-\u001b[0m\u001b[0;36m1\u001b[0m\u001b[0;34m]\u001b[0m\u001b[0;34m[\u001b[0m\u001b[0;36m1\u001b[0m\u001b[0;34m]\u001b[0m\u001b[0;34m\u001b[0m\u001b[0m\n",
      "\u001b[0;31mNameError\u001b[0m: name 'preview' is not defined"
     ]
    }
   ],
   "source": [
    "while True:\n",
    "    try: \n",
    "        for cam in preview.keys():\n",
    "\n",
    "            img = [preview[cam].device.read() for i in range(7)][-1][1]\n",
    "            cv2.imwrite(cam +'_'+ time.asctime()+'.png', img)\n",
    "            \n",
    "            time.sleep(period*60)  # pass period in seconds\n",
    "            \n",
    "    except KeyboardInterrupt:\n",
    "        print('Process ended by user.')\n",
    "        break"
   ]
  },
  {
   "cell_type": "code",
   "execution_count": null,
   "metadata": {
    "collapsed": true
   },
   "outputs": [],
   "source": []
  }
 ],
 "metadata": {
  "kernelspec": {
   "display_name": "Python 3",
   "language": "python",
   "name": "python3"
  },
  "language_info": {
   "codemirror_mode": {
    "name": "ipython",
    "version": 3
   },
   "file_extension": ".py",
   "mimetype": "text/x-python",
   "name": "python",
   "nbconvert_exporter": "python",
   "pygments_lexer": "ipython3",
   "version": "3.6.5"
  }
 },
 "nbformat": 4,
 "nbformat_minor": 2
}

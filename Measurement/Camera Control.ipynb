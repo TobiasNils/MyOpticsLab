{
 "cells": [
  {
   "cell_type": "markdown",
   "metadata": {},
   "source": [
    "### Import some modules"
   ]
  },
  {
   "cell_type": "code",
   "execution_count": 1,
   "metadata": {},
   "outputs": [],
   "source": [
    "import cv2\n",
    "import time"
   ]
  },
  {
   "cell_type": "markdown",
   "metadata": {},
   "source": [
    "# Set up Camera access(es) ###\n",
    "Check possible device ids using: ```ls -ltrh /dev/video*```"
   ]
  },
  {
   "cell_type": "code",
   "execution_count": 2,
   "metadata": {},
   "outputs": [
    {
     "name": "stdout",
     "output_type": "stream",
     "text": [
      "1 video devices have been initialised.\n"
     ]
    }
   ],
   "source": [
    "devices = {}\n",
    "for i in range(10):\n",
    "    success = cv2.VideoCapture(i).read()[0]\n",
    "    if success:\n",
    "        name = 'cam ' + str(i)\n",
    "        devices[name] = cv2.VideoCapture(i)\n",
    "print(len(devices.keys()), 'video devices have been initialised.' )"
   ]
  },
  {
   "cell_type": "markdown",
   "metadata": {},
   "source": [
    "### Define Live Preview Window ###\n",
    "Initiate the necessary modules"
   ]
  },
  {
   "cell_type": "code",
   "execution_count": 3,
   "metadata": {},
   "outputs": [
    {
     "ename": "ImportError",
     "evalue": "cannot import name 'QtGui'",
     "output_type": "error",
     "traceback": [
      "\u001b[0;31m---------------------------------------------------------------------------\u001b[0m",
      "\u001b[0;31mImportError\u001b[0m                               Traceback (most recent call last)",
      "\u001b[0;32m<ipython-input-3-4e323255a3e1>\u001b[0m in \u001b[0;36m<module>\u001b[0;34m()\u001b[0m\n\u001b[1;32m      1\u001b[0m \u001b[0mget_ipython\u001b[0m\u001b[0;34m(\u001b[0m\u001b[0;34m)\u001b[0m\u001b[0;34m.\u001b[0m\u001b[0mrun_line_magic\u001b[0m\u001b[0;34m(\u001b[0m\u001b[0;34m'gui'\u001b[0m\u001b[0;34m,\u001b[0m \u001b[0;34m'qt5'\u001b[0m\u001b[0;34m)\u001b[0m\u001b[0;34m\u001b[0m\u001b[0m\n\u001b[0;32m----> 2\u001b[0;31m \u001b[0;32mfrom\u001b[0m \u001b[0mpyqtgraph\u001b[0m\u001b[0;34m.\u001b[0m\u001b[0mQt\u001b[0m \u001b[0;32mimport\u001b[0m \u001b[0mQtGui\u001b[0m\u001b[0;34m,\u001b[0m \u001b[0mQtCore\u001b[0m\u001b[0;34m\u001b[0m\u001b[0m\n\u001b[0m\u001b[1;32m      3\u001b[0m \u001b[0;32mimport\u001b[0m \u001b[0mpyqtgraph\u001b[0m \u001b[0;32mas\u001b[0m \u001b[0mpyqtgraph\u001b[0m\u001b[0;34m\u001b[0m\u001b[0m\n\u001b[1;32m      4\u001b[0m \u001b[0;34m\u001b[0m\u001b[0m\n\u001b[1;32m      5\u001b[0m \u001b[0;31m# and some modules for button widgets\u001b[0m\u001b[0;34m\u001b[0m\u001b[0;34m\u001b[0m\u001b[0m\n",
      "\u001b[0;32m~/berryconda3/lib/python3.6/site-packages/pyqtgraph/__init__.py\u001b[0m in \u001b[0;36m<module>\u001b[0;34m()\u001b[0m\n\u001b[1;32m     11\u001b[0m \u001b[0;31m## 'Qt' is a local module; it is intended mainly to cover up the differences\u001b[0m\u001b[0;34m\u001b[0m\u001b[0;34m\u001b[0m\u001b[0m\n\u001b[1;32m     12\u001b[0m \u001b[0;31m## between PyQt4 and PySide.\u001b[0m\u001b[0;34m\u001b[0m\u001b[0;34m\u001b[0m\u001b[0m\n\u001b[0;32m---> 13\u001b[0;31m \u001b[0;32mfrom\u001b[0m \u001b[0;34m.\u001b[0m\u001b[0mQt\u001b[0m \u001b[0;32mimport\u001b[0m \u001b[0mQtGui\u001b[0m\u001b[0;34m\u001b[0m\u001b[0m\n\u001b[0m\u001b[1;32m     14\u001b[0m \u001b[0;34m\u001b[0m\u001b[0m\n\u001b[1;32m     15\u001b[0m \u001b[0;31m## not really safe--If we accidentally create another QApplication, the process hangs (and it is very difficult to trace the cause)\u001b[0m\u001b[0;34m\u001b[0m\u001b[0;34m\u001b[0m\u001b[0m\n",
      "\u001b[0;32m~/berryconda3/lib/python3.6/site-packages/pyqtgraph/Qt.py\u001b[0m in \u001b[0;36m<module>\u001b[0;34m()\u001b[0m\n\u001b[1;32m    172\u001b[0m     \u001b[0;31m# We're using PyQt5 which has a different structure so we're going to use a shim to\u001b[0m\u001b[0;34m\u001b[0m\u001b[0;34m\u001b[0m\u001b[0m\n\u001b[1;32m    173\u001b[0m     \u001b[0;31m# recreate the Qt4 structure for Qt5\u001b[0m\u001b[0;34m\u001b[0m\u001b[0;34m\u001b[0m\u001b[0m\n\u001b[0;32m--> 174\u001b[0;31m     \u001b[0;32mfrom\u001b[0m \u001b[0mPyQt5\u001b[0m \u001b[0;32mimport\u001b[0m \u001b[0mQtGui\u001b[0m\u001b[0;34m,\u001b[0m \u001b[0mQtCore\u001b[0m\u001b[0;34m,\u001b[0m \u001b[0mQtWidgets\u001b[0m\u001b[0;34m,\u001b[0m \u001b[0muic\u001b[0m\u001b[0;34m\u001b[0m\u001b[0m\n\u001b[0m\u001b[1;32m    175\u001b[0m \u001b[0;34m\u001b[0m\u001b[0m\n\u001b[1;32m    176\u001b[0m     \u001b[0;31m# PyQt5, starting in v5.5, calls qAbort when an exception is raised inside\u001b[0m\u001b[0;34m\u001b[0m\u001b[0;34m\u001b[0m\u001b[0m\n",
      "\u001b[0;31mImportError\u001b[0m: cannot import name 'QtGui'"
     ]
    },
    {
     "name": "stderr",
     "output_type": "stream",
     "text": [
      "--- Logging error ---\n",
      "Traceback (most recent call last):\n",
      "  File \"/home/pi/berryconda3/lib/python3.6/site-packages/tornado/ioloop.py\", line 605, in _run_callback\n",
      "    ret = callback()\n",
      "  File \"/home/pi/berryconda3/lib/python3.6/site-packages/tornado/stack_context.py\", line 277, in null_wrapper\n",
      "    return fn(*args, **kwargs)\n",
      "  File \"/home/pi/berryconda3/lib/python3.6/site-packages/ipykernel/kernelbase.py\", line 263, in enter_eventloop\n",
      "    self.eventloop(self)\n",
      "  File \"/home/pi/berryconda3/lib/python3.6/site-packages/ipykernel/eventloops.py\", line 123, in loop_qt5\n",
      "    return loop_qt4(kernel)\n",
      "  File \"/home/pi/berryconda3/lib/python3.6/site-packages/ipykernel/eventloops.py\", line 105, in loop_qt4\n",
      "    kernel.app = get_app_qt4([\" \"])\n",
      "  File \"/home/pi/berryconda3/lib/python3.6/site-packages/IPython/lib/guisupport.py\", line 114, in get_app_qt4\n",
      "    from IPython.external.qt_for_kernel import QtGui\n",
      "  File \"/home/pi/berryconda3/lib/python3.6/site-packages/IPython/external/qt_for_kernel.py\", line 95, in <module>\n",
      "    QtCore, QtGui, QtSvg, QT_API = load_qt(api_opts)\n",
      "  File \"/home/pi/berryconda3/lib/python3.6/site-packages/IPython/external/qt_loaders.py\", line 373, in load_qt\n",
      "    api_options))\n",
      "ImportError: \n",
      "    Could not load requested Qt binding. Please ensure that\n",
      "    PyQt4 >= 4.7, PyQt5, PySide >= 1.0.3 or PySide2 is available,\n",
      "    and only one is imported per session.\n",
      "\n",
      "    Currently-imported Qt library:                              None\n",
      "    PyQt4 available (requires QtCore, QtGui, QtSvg):            False\n",
      "    PyQt5 available (requires QtCore, QtGui, QtSvg, QtWidgets): False\n",
      "    PySide >= 1.0.3 installed:                                  False\n",
      "    PySide2 installed:                                          False\n",
      "    Tried to load:                                              ['pyqt5']\n",
      "    \n",
      "\n",
      "During handling of the above exception, another exception occurred:\n",
      "\n",
      "Traceback (most recent call last):\n",
      "  File \"/home/pi/berryconda3/lib/python3.6/logging/__init__.py\", line 996, in emit\n",
      "    self.flush()\n",
      "  File \"/home/pi/berryconda3/lib/python3.6/logging/__init__.py\", line 976, in flush\n",
      "    self.stream.flush()\n",
      "BrokenPipeError: [Errno 32] Broken pipe\n",
      "Call stack:\n",
      "  File \"/home/pi/berryconda3/lib/python3.6/runpy.py\", line 193, in _run_module_as_main\n",
      "    \"__main__\", mod_spec)\n",
      "  File \"/home/pi/berryconda3/lib/python3.6/runpy.py\", line 85, in _run_code\n",
      "    exec(code, run_globals)\n",
      "  File \"/home/pi/berryconda3/lib/python3.6/site-packages/ipykernel_launcher.py\", line 16, in <module>\n",
      "    app.launch_new_instance()\n",
      "  File \"/home/pi/berryconda3/lib/python3.6/site-packages/traitlets/config/application.py\", line 658, in launch_instance\n",
      "    app.start()\n",
      "  File \"/home/pi/berryconda3/lib/python3.6/site-packages/ipykernel/kernelapp.py\", line 478, in start\n",
      "    self.io_loop.start()\n",
      "  File \"/home/pi/berryconda3/lib/python3.6/site-packages/zmq/eventloop/ioloop.py\", line 177, in start\n",
      "    super(ZMQIOLoop, self).start()\n",
      "  File \"/home/pi/berryconda3/lib/python3.6/site-packages/tornado/ioloop.py\", line 832, in start\n",
      "    self._run_callback(self._callbacks.popleft())\n",
      "  File \"/home/pi/berryconda3/lib/python3.6/site-packages/tornado/ioloop.py\", line 622, in _run_callback\n",
      "    self.handle_callback_exception(callback)\n",
      "  File \"/home/pi/berryconda3/lib/python3.6/site-packages/tornado/ioloop.py\", line 638, in handle_callback_exception\n",
      "    app_log.error(\"Exception in callback %r\", callback, exc_info=True)\n",
      "Message: 'Exception in callback %r'\n",
      "Arguments: (functools.partial(<function wrap.<locals>.null_wrapper at 0x6709f198>),)\n"
     ]
    }
   ],
   "source": [
    "%gui qt5\n",
    "from pyqtgraph.Qt import QtGui, QtCore\n",
    "import pyqtgraph as pyqtgraph\n",
    "\n",
    "# and some modules for button widgets\n",
    "import ipywidgets as widgets\n",
    "from ipywidgets import interact\n",
    "from IPython.display import display"
   ]
  },
  {
   "cell_type": "markdown",
   "metadata": {},
   "source": [
    "Define a Preview **object class**"
   ]
  },
  {
   "cell_type": "code",
   "execution_count": 4,
   "metadata": {
    "collapsed": true
   },
   "outputs": [],
   "source": [
    "class Preview(object):   \n",
    "    \"\"\"Pop up a qt5 window for each working camera and stream the **live camera view** using pyqtgraph\"\"\"\n",
    "    def __init__(self, device):\n",
    "        \n",
    "        # assign camera\n",
    "        self.device = devices[device]\n",
    "        self.device_name = device\n",
    "        \n",
    "        # define preview window\n",
    "        self.window_title = \"Preview \" + self.device_name\n",
    "        self.window = pyqtgraph.GraphicsWindow(title=self.window_title)\n",
    "        self.window.resize(640,480)\n",
    "        self.viewport = pyqtgraph.GraphicsLayout()\n",
    "        self.view = self.viewport.addViewBox()\n",
    "        self.window.setCentralItem(self.viewport)\n",
    "        \n",
    "        # init timer for data refresh\n",
    "        self.stream = QtCore.QTimer()\n",
    "        self.stream.timeout.connect(self.update)\n",
    "        self.stream.start(10) # pass time in miliseconds\n",
    "        \n",
    "        # define button for saving images\n",
    "        self.save_button = widgets.Button(description= self.device_name, button_style = '', icon='save')\n",
    "        self.save_button.on_click(self.save)\n",
    "        \n",
    "        \n",
    "    def update(self):\n",
    "        bgr_img = [self.device.read() for i in range(7)][-1][1]\n",
    "        b,g,r = cv2.split(bgr_img)\n",
    "        rgb_img = cv2.merge([r,g,b])\n",
    "\n",
    "        frame = pyqtgraph.ImageItem(rgb_img)\n",
    "        self.view.addItem(frame)\n",
    "        \n",
    "    def save(self, b):\n",
    "        self.stream.stop()\n",
    "\n",
    "        img = [self.device.read() for i in range(7)][-1][1]\n",
    "        cv2.imwrite(self.device_name +'_'+time.asctime()+'.png', img)\n",
    "\n",
    "        self.stream.start(10)\n",
    "        self.window.show()   "
   ]
  },
  {
   "cell_type": "markdown",
   "metadata": {},
   "source": [
    "**Note:** *Code for saving pictures explained*:\n",
    "The camera is somewhat slow in data-acquisition, a changed view may not be reflected immediately in the picture. \n",
    "Therefore we send 7 read() requests and only store the last one (index [-1]) in the variable \"img\".\n",
    "Each read() request returns a tuple of success (True, False) and the image data, the latter is written to a *\".png\"* file\n",
    "\n",
    "# Live Preview#\n",
    "Pop up a qt5 window for each working camera and stream the **live camera view** using pyqtgraph"
   ]
  },
  {
   "cell_type": "code",
   "execution_count": 5,
   "metadata": {},
   "outputs": [
    {
     "data": {
      "application/vnd.jupyter.widget-view+json": {
       "model_id": "7e99ef9f02ed409aafa8a9d60fbdc8f4",
       "version_major": 2,
       "version_minor": 0
      },
      "text/plain": [
       "A Jupyter Widget"
      ]
     },
     "metadata": {},
     "output_type": "display_data"
    }
   ],
   "source": [
    "preview = {}\n",
    "for camera in devices.keys():    \n",
    "    preview[camera] = Preview(camera)\n",
    "\n",
    "# show the save-buttons of all devices    \n",
    "display(widgets.HBox(\n",
    "                    [preview[camera].save_button for camera in devices.keys()]\n",
    "                    ))"
   ]
  },
  {
   "cell_type": "markdown",
   "metadata": {},
   "source": [
    "## **End the streams** and close the pop-up windows"
   ]
  },
  {
   "cell_type": "code",
   "execution_count": 28,
   "metadata": {},
   "outputs": [],
   "source": [
    "for cam in preview.keys():\n",
    "    preview[cam].stream.stop()\n",
    "    preview[stream].window.close()"
   ]
  },
  {
   "cell_type": "markdown",
   "metadata": {},
   "source": [
    "# Start continuous picture acquisition#\n",
    "Define period in minutes"
   ]
  },
  {
   "cell_type": "code",
   "execution_count": 6,
   "metadata": {
    "collapsed": true
   },
   "outputs": [],
   "source": [
    "period = .2"
   ]
  },
  {
   "cell_type": "markdown",
   "metadata": {},
   "source": [
    "Start a **while loop**, which saves a picture for each camera, then waits for the specified period until next repetition. \n",
    "(* **Note**: repeats forever if you don't stop it, e.g. using the notebook's \"interrupt Kernel\" button above*)"
   ]
  },
  {
   "cell_type": "code",
   "execution_count": 1,
   "metadata": {
    "collapsed": true
   },
   "outputs": [
    {
     "ename": "NameError",
     "evalue": "name 'preview' is not defined",
     "output_type": "error",
     "traceback": [
      "\u001b[0;31m---------------------------------------------------------------------------\u001b[0m",
      "\u001b[0;31mNameError\u001b[0m                                 Traceback (most recent call last)",
      "\u001b[0;32m<ipython-input-1-33bf263d4999>\u001b[0m in \u001b[0;36m<module>\u001b[0;34m()\u001b[0m\n\u001b[1;32m      1\u001b[0m \u001b[0;32mwhile\u001b[0m \u001b[0;32mTrue\u001b[0m\u001b[0;34m:\u001b[0m\u001b[0;34m\u001b[0m\u001b[0m\n\u001b[1;32m      2\u001b[0m     \u001b[0;32mtry\u001b[0m\u001b[0;34m:\u001b[0m\u001b[0;34m\u001b[0m\u001b[0m\n\u001b[0;32m----> 3\u001b[0;31m         \u001b[0;32mfor\u001b[0m \u001b[0mcam\u001b[0m \u001b[0;32min\u001b[0m \u001b[0mpreview\u001b[0m\u001b[0;34m.\u001b[0m\u001b[0mkeys\u001b[0m\u001b[0;34m(\u001b[0m\u001b[0;34m)\u001b[0m\u001b[0;34m:\u001b[0m\u001b[0;34m\u001b[0m\u001b[0m\n\u001b[0m\u001b[1;32m      4\u001b[0m \u001b[0;34m\u001b[0m\u001b[0m\n\u001b[1;32m      5\u001b[0m             \u001b[0mimg\u001b[0m \u001b[0;34m=\u001b[0m \u001b[0;34m[\u001b[0m\u001b[0mpreview\u001b[0m\u001b[0;34m[\u001b[0m\u001b[0mcam\u001b[0m\u001b[0;34m]\u001b[0m\u001b[0;34m.\u001b[0m\u001b[0mdevice\u001b[0m\u001b[0;34m.\u001b[0m\u001b[0mread\u001b[0m\u001b[0;34m(\u001b[0m\u001b[0;34m)\u001b[0m \u001b[0;32mfor\u001b[0m \u001b[0mi\u001b[0m \u001b[0;32min\u001b[0m \u001b[0mrange\u001b[0m\u001b[0;34m(\u001b[0m\u001b[0;36m7\u001b[0m\u001b[0;34m)\u001b[0m\u001b[0;34m]\u001b[0m\u001b[0;34m[\u001b[0m\u001b[0;34m-\u001b[0m\u001b[0;36m1\u001b[0m\u001b[0;34m]\u001b[0m\u001b[0;34m[\u001b[0m\u001b[0;36m1\u001b[0m\u001b[0;34m]\u001b[0m\u001b[0;34m\u001b[0m\u001b[0m\n",
      "\u001b[0;31mNameError\u001b[0m: name 'preview' is not defined"
     ]
    }
   ],
   "source": [
    "while True:\n",
    "    try: \n",
    "        for cam in preview.keys():\n",
    "\n",
    "            img = [preview[cam].device.read() for i in range(7)][-1][1]\n",
    "            cv2.imwrite(cam +'_'+ time.asctime()+'.png', img)\n",
    "            \n",
    "            time.sleep(period*60)  # pass period in seconds\n",
    "            \n",
    "    except KeyboardInterrupt:\n",
    "        print('Process ended by user.')\n",
    "        break"
   ]
  },
  {
   "cell_type": "code",
   "execution_count": null,
   "metadata": {
    "collapsed": true
   },
   "outputs": [],
   "source": []
  }
 ],
 "metadata": {
  "kernelspec": {
   "display_name": "Python 3",
   "language": "python",
   "name": "python3"
  },
  "language_info": {
   "codemirror_mode": {
    "name": "ipython",
    "version": 3
   },
   "file_extension": ".py",
   "mimetype": "text/x-python",
   "name": "python",
   "nbconvert_exporter": "python",
   "pygments_lexer": "ipython3",
   "version": "3.6.1"
  }
 },
 "nbformat": 4,
 "nbformat_minor": 2
}

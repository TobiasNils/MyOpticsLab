{
 "cells": [
  {
   "cell_type": "markdown",
   "metadata": {},
   "source": [
    "## Set plots interactive\n",
    "Allow for interactive plots powered by matplotlib. Execution before running MyOpticsLab ***does*** matter.  "
   ]
  },
  {
   "cell_type": "code",
   "execution_count": 2,
   "metadata": {
    "scrolled": false
   },
   "outputs": [],
   "source": [
    "%matplotlib notebook"
   ]
  },
  {
   "cell_type": "markdown",
   "metadata": {},
   "source": [
    "## Initialise Spectrometers and basic functions#"
   ]
  },
  {
   "cell_type": "markdown",
   "metadata": {},
   "source": [
    "By running this cell, functions and classes predefined in the python scripts in the *lib* folder are loaded and a scan for connected *Ocean Optics* **spectrometers** is conducted. Once a connection to one or more spectrometers is established, you will be provided with the respective information and control buttons will be invoked for the adjustment of crucial measurement parameters. \n",
    "\n",
    "*Warning:*  During this process, access to spectrometers is granted exclusively to (the kernel of) this notebook. *(Should you wish to access the spectrometers from another notebook, first shut down this notebook or restart its kernel.)* "
   ]
  },
  {
   "cell_type": "code",
   "execution_count": 5,
   "metadata": {
    "scrolled": true
   },
   "outputs": [
    {
     "name": "stdout",
     "output_type": "stream",
     "text": [
      "\n",
      " Hello nils! Welcome to LabOptica :)\n",
      "\n",
      " The following Ocean Optics devices have been recognized:\n",
      "[]\n",
      "\n",
      " No Ocean Optics devices connected.\n"
     ]
    }
   ],
   "source": [
    "%run modules/MyOpticsLab.py"
   ]
  },
  {
   "cell_type": "markdown",
   "metadata": {},
   "source": [
    "## Live Data ViewPort"
   ]
  },
  {
   "cell_type": "markdown",
   "metadata": {},
   "source": [
    "The next cell invokes a *live data feed* for each of the recognised spectrometers. Now, based on the visual feedback, we can alter some of the **measurement parameters** for the selected spectrometer sing the control buttons above and observe the effects on the corresponding intensity signal.\n",
    "\n",
    "*Notes*: \n",
    "- **Integration time (IT)**: Note that while increasing integration time you will reach a point at which the signal starts to flatten at the upper border. This is not due to the graphics window, but to the saturation of the photodetectors in the spectrometer. This situation has to be avoided, as the signal becomes invariant to other factors. \n",
    "- **ViewPort**: On second execution of `MyLab.show_DataFeed()`, the interactive plot may disappear. If that happens, return  the Figure instance again by executing `ViewPort`. "
   ]
  },
  {
   "cell_type": "code",
   "execution_count": 7,
   "metadata": {
    "scrolled": false
   },
   "outputs": [],
   "source": [
    "MyLab.show_DataFeed()\n",
    "# ViewPort"
   ]
  },
  {
   "cell_type": "markdown",
   "metadata": {},
   "source": [
    "## Automised data acquisition#\n",
    "\n",
    "### *** Define a measurement sequence ***"
   ]
  },
  {
   "cell_type": "code",
   "execution_count": 4,
   "metadata": {
    "collapsed": true,
    "scrolled": false
   },
   "outputs": [],
   "source": [
    "# Define spectrometer access locally\n",
    "spectrometer = OO['USB2000plus']\n",
    "\n",
    "# Define helper function containing the individual steps to be automised\n",
    "def sequence(spectrometer):\n",
    "    \n",
    "    # Define number of spectra averaged through \"avg_spec\"\n",
    "    N=1\n",
    "    \n",
    "    spectrometer.stream.interrupt()\n",
    "    \n",
    "    # Correct ambient light interferences\n",
    "    # ======================================================\n",
    "    \n",
    "    # Get mean of N intensity spectra from spectrometer (returns dictionary!) with lightsource OFF\n",
    "    spectrometer.light_off()\n",
    "    Idark = spectrometer.avg_spec(N)\n",
    "    \n",
    "    # Get mean of N intensity spectra from spectrometer (returns dictionary!) with lightsource ON\n",
    "    spectrometer.light_on()\n",
    "    I = spectrometer.avg_spec(N)\n",
    "    \n",
    "    # Substract ambient light mean intensities, Idark['mean_spec'], from mean intensities obtained with lightsource ON \n",
    "    # and ambient lights present; I['mean_spec'].\n",
    "    I['mean_spec'] = I['mean_spec'] - Idark['mean_spec']\n",
    "    # ======================================================\n",
    "    spectrometer.light_off()\n",
    "        \n",
    "    return I\n",
    "    "
   ]
  },
  {
   "cell_type": "markdown",
   "metadata": {
    "scrolled": true
   },
   "source": [
    "### ***Repeat sequence with period [min]***###\n",
    "*** write_to *** defines the filename where datasets are stored (in order to save to an existing folder, e.g. \"Folder\", contained in \"Measurement\", set `write_to = 'Folder/testfile'`)"
   ]
  },
  {
   "cell_type": "code",
   "execution_count": 2,
   "metadata": {},
   "outputs": [
    {
     "name": "stdout",
     "output_type": "stream",
     "text": [
      "Help on function repeat in module lib.repeat:\n",
      "\n",
      "repeat(sequence, spectrometer, period_minutes=0.05, write_to='database', zone=None)\n",
      "\n"
     ]
    }
   ],
   "source": [
    "# load function definition from file\n",
    "from modules.repeat import repeat as repeat\n",
    "help(repeat)"
   ]
  },
  {
   "cell_type": "code",
   "execution_count": 5,
   "metadata": {
    "scrolled": false
   },
   "outputs": [
    {
     "data": {
      "application/vnd.jupyter.widget-view+json": {
       "model_id": "96d0e3a4a52a45949a1a4b2ea166e3d3",
       "version_major": 2,
       "version_minor": 0
      },
      "text/plain": [
       "Box(children=(Button(button_style='success', description='Running', disabled=True, style=ButtonStyle()), Float…"
      ]
     },
     "metadata": {},
     "output_type": "display_data"
    }
   ],
   "source": [
    "# start repeating the sequence\n",
    "repeat(sequence, spectrometer, write_to='testfile', period_minutes=0.3, experiment_name=None)"
   ]
  }
 ],
 "metadata": {
  "kernelspec": {
   "display_name": "Python 3",
   "language": "python",
   "name": "python3"
  },
  "language_info": {
   "codemirror_mode": {
    "name": "ipython",
    "version": 3
   },
   "file_extension": ".py",
   "mimetype": "text/x-python",
   "name": "python",
   "nbconvert_exporter": "python",
   "pygments_lexer": "ipython3",
   "version": "3.6.4"
  }
 },
 "nbformat": 4,
 "nbformat_minor": 2
}

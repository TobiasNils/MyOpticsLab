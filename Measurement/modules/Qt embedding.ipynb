{
 "cells": [
  {
   "cell_type": "code",
   "execution_count": 1,
   "metadata": {
    "collapsed": true
   },
   "outputs": [],
   "source": [
    "%gui qt5\n",
    "from pyqtgraph.Qt import QtGui, QtCore\n",
    "import numpy as np\n",
    "import pyqtgraph as pg"
   ]
  },
  {
   "cell_type": "code",
   "execution_count": 7,
   "metadata": {
    "collapsed": true
   },
   "outputs": [],
   "source": [
    "class device:\n",
    "    IT = 15\n",
    "    x = [i+200 for i in range(700)]\n",
    "    y = [i*2 for i in range(700)]\n",
    "    stream = None\n",
    "    def gen_y(self):\n",
    "        self.y = [self.IT*200+np.random.random() for i in range(700)]\n",
    "        return self.y\n",
    "    def close(self):\n",
    "        print('device closed')\n",
    "        \n",
    "    def start_stream(self):\n",
    "        if not self.stream:\n",
    "            self.stream = LiveFeed(self)\n",
    "        else:\n",
    "            pass\n",
    "    def capture(self):\n",
    "        if not self.stream:\n",
    "            pass\n",
    "        else:\n",
    "            self.stream.interrupt()\n",
    "            import time\n",
    "            time.sleep(1)\n",
    "            print('data accessed')\n",
    "            self.stream.interrupt()\n",
    "\n",
    "##\tClass CustomGraphicsWindow\n",
    "#\tWe use this class to override the closeEvent function of the base pg.GraphicsWindow\n",
    "class CustomGraphicsWindow(pg.GraphicsWindow):\n",
    "    ##\tFunction closeEvent\n",
    "    #\tThis overrides the closeEvent function in the base class. This function is invoked automatically by QTGui when the window closes.\n",
    "    #\t@param ev This is the event object (i.e. window close). \n",
    "    def closeEvent(self, ev):\n",
    "        device.stream = None\n",
    "        ev.accept()\n",
    "\n",
    "class LiveFeed():\n",
    "\n",
    "    def __init__(self, device):\n",
    "        self.device = device\n",
    "        self.streaming = False\n",
    "        # create Gaphics Window instance\n",
    "        self.win = CustomGraphicsWindow(title=\"Spectrometer LiveStream\")\n",
    "        self.win.resize(500,560)\n",
    "        \n",
    "        # define and add buttons for interaction\n",
    "        self.close_access = QtGui.QPushButton('Close Connection')\n",
    "        self.play = QtGui.QPushButton(u'\\u258C\\u258CPause / Resume \\u25B6')\n",
    "        self.play.clicked.connect(self.interrupt)\n",
    "        self.close_access.clicked.connect(self.close)\n",
    "        self.proxy_play = QtGui.QGraphicsProxyWidget()\n",
    "        self.proxy_play.setWidget(self.play)\n",
    "        self.proxy_close = QtGui.QGraphicsProxyWidget()\n",
    "        self.proxy_close.setWidget(self.close_access)\n",
    "        self.win.addItem(self.proxy_play,row=1,col=2)\n",
    "        self.win.addItem(self.proxy_close,row=2,col=2)\n",
    "        \n",
    "        # create the plot\n",
    "        self.plot = self.win.addPlot(title='device')\n",
    "        self.plot.enableAutoRange('xy', True)\n",
    "        self.curve = self.plot.plot(pen='b')\n",
    "        \n",
    "        # get initial spectral data\n",
    "        self.data = (device.x,device.y)\n",
    "        \n",
    "        # init timer for data refresh\n",
    "        self.timer = QtCore.QTimer()\n",
    "        self.timer.timeout.connect(self.update)\n",
    "        self.timer.start(self.device.IT+35)\n",
    "    \n",
    "    def close(self):\n",
    "        self.interrupt()\n",
    "        self.device.close()\n",
    "        self.win.close()\n",
    "           \n",
    "        \n",
    "    def update(self):\n",
    "        \n",
    "        self.curve.setData(self.device.x, self.device.gen_y())\n",
    "\n",
    "        \n",
    "    def interrupt(self):   \n",
    "\n",
    "        self.streaming = not self.streaming\n",
    "        if self.streaming:\n",
    "            self.timer.stop()\n",
    "        else:\n",
    "            self.timer.start(self.device.IT+35)"
   ]
  },
  {
   "cell_type": "code",
   "execution_count": 8,
   "metadata": {
    "collapsed": true
   },
   "outputs": [],
   "source": [
    "test = device()\n",
    "device = device()\n"
   ]
  },
  {
   "cell_type": "code",
   "execution_count": 9,
   "metadata": {
    "collapsed": true
   },
   "outputs": [],
   "source": [
    "test.start_stream()"
   ]
  },
  {
   "cell_type": "code",
   "execution_count": 38,
   "metadata": {},
   "outputs": [
    {
     "name": "stdout",
     "output_type": "stream",
     "text": [
      "<__main__.LiveFeed object at 0x7f6beffe4400>\n"
     ]
    }
   ],
   "source": [
    "print(test.stream)"
   ]
  },
  {
   "cell_type": "code",
   "execution_count": 46,
   "metadata": {},
   "outputs": [
    {
     "name": "stdout",
     "output_type": "stream",
     "text": [
      "data accessed\n",
      "device closed\n",
      "unexpected end\n"
     ]
    }
   ],
   "source": [
    "device.capture()"
   ]
  },
  {
   "cell_type": "code",
   "execution_count": 10,
   "metadata": {},
   "outputs": [
    {
     "data": {
      "text/plain": [
       "<pyqtgraph.graphicsItems.PlotItem.PlotItem.PlotItem at 0x7f43980dba68>"
      ]
     },
     "execution_count": 10,
     "metadata": {},
     "output_type": "execute_result"
    }
   ],
   "source": [
    "device.stream.win.addPlot(title='Absorbance')"
   ]
  },
  {
   "cell_type": "code",
   "execution_count": 10,
   "metadata": {},
   "outputs": [
    {
     "ename": "TypeError",
     "evalue": "'device' object is not callable",
     "output_type": "error",
     "traceback": [
      "\u001b[0;31m---------------------------------------------------------------------------\u001b[0m",
      "\u001b[0;31mTypeError\u001b[0m                                 Traceback (most recent call last)",
      "\u001b[0;32m<ipython-input-10-e7fd2697252b>\u001b[0m in \u001b[0;36m<module>\u001b[0;34m()\u001b[0m\n\u001b[1;32m      1\u001b[0m \u001b[0mOO_dummy\u001b[0m \u001b[0;34m=\u001b[0m \u001b[0;34m{\u001b[0m\u001b[0;34m}\u001b[0m\u001b[0;34m\u001b[0m\u001b[0m\n\u001b[0;32m----> 2\u001b[0;31m \u001b[0mOO_dummy\u001b[0m\u001b[0;34m[\u001b[0m\u001b[0;34m'QE'\u001b[0m\u001b[0;34m]\u001b[0m \u001b[0;34m=\u001b[0m \u001b[0mdevice\u001b[0m\u001b[0;34m(\u001b[0m\u001b[0;34m)\u001b[0m\u001b[0;34m\u001b[0m\u001b[0m\n\u001b[0m\u001b[1;32m      3\u001b[0m \u001b[0mOO_dummy\u001b[0m\u001b[0;34m[\u001b[0m\u001b[0;34m'QE'\u001b[0m\u001b[0;34m]\u001b[0m\u001b[0;34m.\u001b[0m\u001b[0mstart_stream\u001b[0m\u001b[0;34m(\u001b[0m\u001b[0;34m)\u001b[0m\u001b[0;34m\u001b[0m\u001b[0m\n",
      "\u001b[0;31mTypeError\u001b[0m: 'device' object is not callable"
     ]
    }
   ],
   "source": [
    "OO_dummy = {}\n",
    "OO_dummy['QE'] = device()\n",
    "OO_dummy['QE'].start_stream()"
   ]
  },
  {
   "cell_type": "code",
   "execution_count": null,
   "metadata": {
    "collapsed": true
   },
   "outputs": [],
   "source": []
  },
  {
   "cell_type": "code",
   "execution_count": null,
   "metadata": {
    "collapsed": true
   },
   "outputs": [],
   "source": []
  }
 ],
 "metadata": {
  "kernelspec": {
   "display_name": "Python 3",
   "language": "python",
   "name": "python3"
  },
  "language_info": {
   "codemirror_mode": {
    "name": "ipython",
    "version": 3
   },
   "file_extension": ".py",
   "mimetype": "text/x-python",
   "name": "python",
   "nbconvert_exporter": "python",
   "pygments_lexer": "ipython3",
   "version": "3.6.5"
  }
 },
 "nbformat": 4,
 "nbformat_minor": 2
}
